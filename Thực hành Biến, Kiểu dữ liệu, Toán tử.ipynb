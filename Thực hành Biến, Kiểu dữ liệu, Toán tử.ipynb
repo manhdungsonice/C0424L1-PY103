{
 "cells": [
  {
   "cell_type": "markdown",
   "id": "9c533413-b8fe-43a1-b1ee-78580d93feb2",
   "metadata": {},
   "source": [
    "## Bài 1\n",
    "Viết chương trình nhập vào 2 số nguyên `num1` và `num2`. In ra tích của 2 số nguyên đó."
   ]
  },
  {
   "cell_type": "code",
   "execution_count": 3,
   "id": "a21f26f8-e865-4d3b-b73a-40b595753609",
   "metadata": {},
   "outputs": [
    {
     "name": "stdin",
     "output_type": "stream",
     "text": [
      "please enter the fisrt number:  10\n",
      "please enter the second number:  5\n"
     ]
    },
    {
     "name": "stdout",
     "output_type": "stream",
     "text": [
      "tich 2 so nguyen la 50\n"
     ]
    }
   ],
   "source": [
    "num1 = int(input('please enter the fisrt number: '))\n",
    "num2 = int(input('please enter the second number: '))\n",
    "print(f'tich 2 so nguyen la {num1 * num2}')"
   ]
  },
  {
   "cell_type": "markdown",
   "id": "177e922f-39c1-4813-877a-e374b312f2ac",
   "metadata": {},
   "source": [
    "## Bài 2 \n",
    "Nhập vào ba biến `diem_toan`, `diem_ly`, `diem_hoa` và in ra điểm trung bình của ba môn học trên."
   ]
  },
  {
   "cell_type": "code",
   "execution_count": 4,
   "id": "47051dad-c1ec-4efd-aaf3-faca4d398f61",
   "metadata": {},
   "outputs": [
    {
     "name": "stdin",
     "output_type": "stream",
     "text": [
      "Please enter the Math mark:  8.5\n",
      "Please enter the Physic mark:  8.5\n",
      "Please enter the Chemistry mark:  9\n"
     ]
    },
    {
     "name": "stdout",
     "output_type": "stream",
     "text": [
      "Điểm trung bình 3 môn là 8.666666666666666\n"
     ]
    }
   ],
   "source": [
    "diem_toan = float(input('Please enter the Math mark: '))\n",
    "diem_ly = float(input('Please enter the Physic mark: '))\n",
    "diem_hoa = float(input('Please enter the Chemistry mark: '))\n",
    "trung_binh = (diem_toan + diem_ly + diem_hoa) / 3\n",
    "print(f'Điểm trung bình 3 môn là {trung_binh}')"
   ]
  },
  {
   "cell_type": "markdown",
   "id": "06bc1896-f8c3-4cfc-a81c-6ec8ae66c44e",
   "metadata": {},
   "source": [
    "## Bài 3\n",
    "Nhập vào vận tốc của đoàn tàu theo đơn vị km/h.\n",
    "\n",
    "a. Hỏi trung bình mỗi phút đoàn tàu đi được bao nhiêu mét?\n",
    "\n",
    "b. Sau 1 giờ 12 phút đoàn tàu đi được bao nhiêu km?"
   ]
  },
  {
   "cell_type": "code",
   "execution_count": 9,
   "id": "54368340-fe35-4d4d-8063-2c17872dd5f0",
   "metadata": {},
   "outputs": [
    {
     "name": "stdin",
     "output_type": "stream",
     "text": [
      "Vận tốc của đoàn tàu theo đơn vị km/h:  33\n"
     ]
    },
    {
     "name": "stdout",
     "output_type": "stream",
     "text": [
      "Trung bình mỗi phút đoàn tàu đi được 550.0 mét\n",
      "Sau 1h 12 phút đoàn tàu đi được 39.6 km\n"
     ]
    }
   ],
   "source": [
    "V_kmh = float(input('Vận tốc của đoàn tàu theo đơn vị km/h: '))\n",
    "V_ms = V_kmh / 3.6        #Vận tốc theo đơn vị m/s      \n",
    "S_moi_phut = V_ms * 60    #Quãng đường đi được trong 1 phút\n",
    "S_sau = V_kmh * 1.2       #Quãng đường đi được sau 1h12p\n",
    "print(f'Trung bình mỗi phút đoàn tàu đi được {S_moi_phut} mét')\n",
    "print(f'Sau 1h 12 phút đoàn tàu đi được {S_sau} km')"
   ]
  }
 ],
 "metadata": {
  "kernelspec": {
   "display_name": "Python 3 (ipykernel)",
   "language": "python",
   "name": "python3"
  },
  "language_info": {
   "codemirror_mode": {
    "name": "ipython",
    "version": 3
   },
   "file_extension": ".py",
   "mimetype": "text/x-python",
   "name": "python",
   "nbconvert_exporter": "python",
   "pygments_lexer": "ipython3",
   "version": "3.12.2"
  }
 },
 "nbformat": 4,
 "nbformat_minor": 5
}
